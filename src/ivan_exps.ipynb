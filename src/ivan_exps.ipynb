{
 "cells": [
  {
   "cell_type": "code",
   "execution_count": 64,
   "metadata": {
    "collapsed": false,
    "scrolled": true
   },
   "outputs": [],
   "source": [
    "import pandas as pd\n",
    "import numpy as np\n",
    "import seaborn as sns; sns.set_style(\"darkgrid\")\n",
    "from sklearn import linear_model\n",
    "import matplotlib.pyplot as plt\n",
    "#plt.style.use('ggplot')\n",
    "import random\n",
    "\n",
    "import warnings\n",
    "warnings.filterwarnings('ignore')\n",
    "\n",
    "#Auxiliares\n",
    "\n",
    "def far_to_cel(temp):\n",
    "    return 5*(temp)/9 - 5*32/9\n",
    "\n",
    "\n",
    "#Función para sacar outliers\n",
    "#(se puede cambiar eso de s-s.mean <= etc, esa es una forma posible de detectar outliers)\n",
    "\n",
    "def mascara_outliers(s, mult):\n",
    "    return abs(s - s.mean()) <= mult*s.std()\n",
    "\n",
    "def sacar_outliers(datos,tag,mult):\n",
    "    mascara = mascara_outliers(datos[tag], mult)\n",
    "    return datos[mascara]\n",
    "\n",
    "\n",
    "#Función para delimitar ejes:\n",
    "#(dice dominio, pero se puede usar para imagen también... ya se que esta medio cabeza, pero anda bien)\n",
    "\n",
    "def mascara_dominio_abajo(s,x0):\n",
    "    return x0 <= s\n",
    "def mascara_dominio_arriba(s,x1):\n",
    "    return s <= x1\n",
    "\n",
    "def achicar_dominio(datos,tag,x0,x1):\n",
    "    mascara = mascara_dominio_abajo(datos[tag],x0)\n",
    "    datos = datos[mascara]\n",
    "    mascara = mascara_dominio_arriba(datos[tag],x1)\n",
    "    return datos[mascara]\n",
    "\n",
    "\n",
    "#Función para crear una columna con cada año\n",
    "#(es imrpotante haber cargado el csv con el arguemtno parse_dates=[tag])\n",
    "def crear_col_años(datos,tag):\n",
    "    return datos[tag].apply (lambda x : x.year if x.month < 12 else x.year + 1)"
   ]
  },
  {
   "cell_type": "code",
   "execution_count": 83,
   "metadata": {
    "collapsed": false
   },
   "outputs": [],
   "source": [
    "################################\n",
    "# Levanto los datos, y los veo #\n",
    "################################\n",
    "\n",
    "df = pd.read_csv('../data/temperaturas_catedra/GlobalLandTemperaturesByCountry.csv', parse_dates=['dt'])\n",
    "df_lat_long = pd.read_csv('../data/polos/sea_level/La_Corunia.csv')\n",
    "\n",
    "df_south_pole = pd.read_csv('../data/polos/temperaturas/south_pole.csv')\n",
    "\n",
    "\n",
    "df_greenland = df[df['Country'] == 'Greenland'].reset_index()\n",
    "df_greenland['year'] = crear_col_años(df_greenland, \"dt\")\n",
    "df_greenland = df_greenland.groupby(['year']).mean().reset_index()\n",
    "\n",
    "\n",
    "df_sl_global = pd.read_csv('../data/polos/sea_level/global.csv')\n",
    "\n",
    "\n",
    "#print(\"Decripción de los datos\")\n",
    "#print(df_greenland.describe())\n",
    "\n",
    "\n",
    "######################\n",
    "# Gráficos los datos #\n",
    "######################\n",
    "\n",
    "#Para el polo sur\n",
    "\n",
    "#convirtiendo todo a celsius\n",
    "for i in range(0,41):\n",
    "    df_south_pole.ix[i, 'temp'] = far_to_cel(df_south_pole.ix[i, 'temp'])\n",
    "    #print(df_south_pole.ix[i, 'temp'])\n",
    "    \n",
    "df_south_pole = sacar_outliers(df_south_pole, 'temp', 1)\n",
    "    \n",
    "ax = sns.tsplot(data=df_south_pole['temp'], time=df_south_pole['year'], interpolate=False)\n",
    "sns.plt.xlim((1955,2000))\n",
    "sns.plt.show()\n",
    "sns.plt.close()\n",
    "\n",
    "#Para Groenlandia\n",
    "\n",
    "df_greenland = sacar_outliers(df_greenland, 'AverageTemperature', 1)\n",
    "\n",
    "ax = sns.tsplot(data=df_greenland['AverageTemperature'], time=df_greenland['year'], interpolate=False)\n",
    "sns.plt.xlim((1955,2004))\n",
    "sns.plt.show()\n",
    "sns.plt.close()\n",
    "\n",
    "\n",
    "#Para el nivel del mar global\n",
    "\n",
    "df_sl_global = achicar_dominio(df_sl_global,'Year',1955,2000)\n",
    "\n",
    "ax = sns.tsplot(data=df_sl_global['CSIRO Adjusted Sea Level'], time=df_sl_global['Year'], interpolate=False)\n",
    "sns.plt.xlim((1950,2010))\n",
    "sns.plt.show()\n",
    "sns.plt.close()"
   ]
  },
  {
   "cell_type": "markdown",
   "metadata": {},
   "source": [
    "# Ahora si, lo importante del TP"
   ]
  },
  {
   "cell_type": "code",
   "execution_count": 80,
   "metadata": {
    "collapsed": false,
    "scrolled": false
   },
   "outputs": [
    {
     "name": "stdout",
     "output_type": "stream",
     "text": [
      "Error de predicción: 1.04\n"
     ]
    },
    {
     "data": {
      "image/png": "[encoded data removed]",
      "text/plain": [
       "<matplotlib.figure.Figure at 0x7fbd7e4cf860>"
      ]
     },
     "metadata": {},
     "output_type": "display_data"
    }
   ],
   "source": [
    "# Uso cuadrados mínimos para predecir\n",
    "\n",
    "\n",
    "def armar_matriz_A(s):\n",
    "    temp = []\n",
    "    for t in s:\n",
    "        #temp.append([t^4, t^3, t^2, t, 1, np.sin(t)])\n",
    "        temp.append([t, 1, np.cos((2.1)*t+6)])\n",
    "    return np.array(temp)\n",
    "\n",
    "def entrenar_y_predecir_en_rangos(df, rango_entrenamiento, rango_prediccion, tag1, tag2):\n",
    "    regr = linear_model.LinearRegression(fit_intercept=False)\n",
    "\n",
    "    # Entreno el modelo\n",
    "    df_e = df[df[tag1].isin(rango_entrenamiento)]\n",
    "    A_e = armar_matriz_A(df_e[tag1])\n",
    "    regr.fit(A_e, df_e[tag2])\n",
    "\n",
    "    # Me fijo la aproximación que se realizó\n",
    "    df_e['p'] = regr.predict(A_e)\n",
    "    sns.tsplot(time=df_e[tag1], data=df_e['p'], color='r')\n",
    "\n",
    "    # Realizo predicciones\n",
    "    df_p = df[df[tag1].isin(rango_prediccion)]\n",
    "\n",
    "    A_p = armar_matriz_A(df_p[tag1])\n",
    "    df_p['p'] = regr.predict(A_p)\n",
    "    sns.tsplot(time=df_p[tag1], data=df_p['p'], color='g')\n",
    "\n",
    "    ECM = sum((df_p['p']-df_p[tag2])**2)\n",
    "    return ECM\n",
    "\n",
    "def predecir(datos, k, rango,limitador, tag1, tag2):\n",
    "    return entrenar_y_predecir_en_rangos(datos, range(k-rango,k), range(k,k+rango-limitador), tag1, tag2)\n",
    "\n",
    "\n",
    "def graficador(datos, año, rango, limitador, x0, x1):\n",
    "    ECM = predecir(datos,año,rango,limitador,'Year', 'CSIRO Adjusted Sea Level')\n",
    "    print(\"Error de predicción: {:.2f}\".format(ECM))\n",
    "        \n",
    "    sns.plt.xlim((x0,x1))\n",
    "    sns.plt.title('titulo')\n",
    "    sns.plt.xlabel('ejex')\n",
    "    sns.plt.ylabel('ejey')\n",
    "    sns.plt.show()\n",
    "    sns.plt.close()\n",
    "\n",
    "\n",
    "sns.tsplot(data=df_sl_global['CSIRO Adjusted Sea Level'], time=df_sl_global['Year'], interpolate=False, color='b')\n",
    "graficador(df_sl_global, 1980, 20, 0, 1955, 2000)\n"
   ]
  },
  {
   "cell_type": "code",
   "execution_count": null,
   "metadata": {
    "collapsed": true
   },
   "outputs": [],
   "source": []
  }
 ],
 "metadata": {
  "kernelspec": {
   "display_name": "Python 3",
   "language": "python",
   "name": "python3"
  },
  "language_info": {
   "codemirror_mode": {
    "name": "ipython",
    "version": 3
   },
   "file_extension": ".py",
   "mimetype": "text/x-python",
   "name": "python",
   "nbconvert_exporter": "python",
   "pygments_lexer": "ipython3",
   "version": "3.4.3"
  }
 },
 "nbformat": 4,
 "nbformat_minor": 2
}
